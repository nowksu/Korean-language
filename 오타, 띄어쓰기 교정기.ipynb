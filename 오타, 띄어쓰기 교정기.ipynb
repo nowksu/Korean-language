{
 "cells": [
  {
   "cell_type": "code",
   "execution_count": 9,
   "metadata": {
    "ExecuteTime": {
     "end_time": "2020-11-30T05:16:43.930737Z",
     "start_time": "2020-11-30T05:16:43.924623Z"
    }
   },
   "outputs": [],
   "source": [
    "from hanspell import spell_checker"
   ]
  },
  {
   "cell_type": "code",
   "execution_count": 22,
   "metadata": {
    "ExecuteTime": {
     "end_time": "2020-11-30T05:38:27.924932Z",
     "start_time": "2020-11-30T05:38:27.919092Z"
    }
   },
   "outputs": [],
   "source": [
    "lines = '''\n",
    "싶엇는데\n",
    "없엇는데\n",
    "'''"
   ]
  },
  {
   "cell_type": "code",
   "execution_count": 23,
   "metadata": {
    "ExecuteTime": {
     "end_time": "2020-11-30T05:38:28.453513Z",
     "start_time": "2020-11-30T05:38:28.376752Z"
    }
   },
   "outputs": [
    {
     "name": "stdout",
     "output_type": "stream",
     "text": [
      "\n",
      "싶었는데\n",
      "없었는데\n",
      "\n"
     ]
    }
   ],
   "source": [
    "for line in lines.split(\"\\n\"):\n",
    "    sent = line.strip()\n",
    "    spelled_sent = spell_checker.check(sent)\n",
    "\n",
    "    hanspell_sent = spelled_sent.checked\n",
    "    print(hanspell_sent)"
   ]
  },
  {
   "cell_type": "code",
   "execution_count": 29,
   "metadata": {
    "ExecuteTime": {
     "end_time": "2020-11-30T05:44:34.720667Z",
     "start_time": "2020-11-30T05:44:34.717673Z"
    }
   },
   "outputs": [],
   "source": [
    "import re"
   ]
  },
  {
   "cell_type": "code",
   "execution_count": 66,
   "metadata": {
    "ExecuteTime": {
     "end_time": "2020-11-30T06:02:24.603919Z",
     "start_time": "2020-11-30T06:02:24.598931Z"
    }
   },
   "outputs": [],
   "source": [
    "line = \"\"\"네 여보세요. 네 아 예 안녕하세요. 저는 아마존 웹 서비스에서 전화드린 김미선 매니저입니다. 예 저희도 좀 전산 담당자님이라고 안내 받고 연락 드렸는데 맞으신가요? 아니하세요.\"\"\""
   ]
  },
  {
   "cell_type": "code",
   "execution_count": 67,
   "metadata": {
    "ExecuteTime": {
     "end_time": "2020-11-30T06:02:25.062689Z",
     "start_time": "2020-11-30T06:02:25.058700Z"
    }
   },
   "outputs": [
    {
     "name": "stdout",
     "output_type": "stream",
     "text": [
      "네 여보세요\n",
      "네 아 예 안녕하세요\n",
      "저는 아마존 웹 서비스에서 전화드린 김미선 매니저입니다\n",
      "예 저희도 좀 전산 담당자님이라고 안내 받고 연락 드렸는데 맞으신가요\n",
      "아니하세요.\n"
     ]
    }
   ],
   "source": [
    "for part in re.split('[.,?!]\\s+', line):\n",
    "       print(part)"
   ]
  },
  {
   "cell_type": "code",
   "execution_count": 73,
   "metadata": {
    "ExecuteTime": {
     "end_time": "2020-11-30T06:06:35.899919Z",
     "start_time": "2020-11-30T06:06:35.893962Z"
    }
   },
   "outputs": [
    {
     "name": "stdout",
     "output_type": "stream",
     "text": [
      "네 여보세요.\n",
      " 네 아 예 안녕하세요.\n",
      " 저는 아마존 웹 서비스에서 전화드린 김미선 매니저입니다.\n",
      " 예 저희도 좀 전산 담당자님이라고 안내 받고 연락 드렸는데 맞으신가요?\n",
      " 아니하세요.\n",
      "\n",
      "저는 아마존 웹 서비스에서 전화드린 김미선 매니저입니다.\n"
     ]
    }
   ],
   "source": [
    "a = ''\n",
    "for part in line:\n",
    "    if part in \".,!?\":\n",
    "        a += part\n",
    "        a += '\\n'\n",
    "    else:\n",
    "        a += part\n",
    "\n",
    "t = []\n",
    "for i in a.split('\\n'):\n",
    "    print(i)\n",
    "    t.append(i.strip())\n",
    "    \n",
    "print(t[2])"
   ]
  },
  {
   "cell_type": "code",
   "execution_count": null,
   "metadata": {},
   "outputs": [],
   "source": []
  }
 ],
 "metadata": {
  "kernelspec": {
   "display_name": "Python 3",
   "language": "python",
   "name": "python3"
  },
  "language_info": {
   "codemirror_mode": {
    "name": "ipython",
    "version": 3
   },
   "file_extension": ".py",
   "mimetype": "text/x-python",
   "name": "python",
   "nbconvert_exporter": "python",
   "pygments_lexer": "ipython3",
   "version": "3.7.4"
  },
  "toc": {
   "base_numbering": 1,
   "nav_menu": {},
   "number_sections": true,
   "sideBar": true,
   "skip_h1_title": false,
   "title_cell": "Table of Contents",
   "title_sidebar": "Contents",
   "toc_cell": false,
   "toc_position": {},
   "toc_section_display": true,
   "toc_window_display": false
  },
  "varInspector": {
   "cols": {
    "lenName": 16,
    "lenType": 16,
    "lenVar": 40
   },
   "kernels_config": {
    "python": {
     "delete_cmd_postfix": "",
     "delete_cmd_prefix": "del ",
     "library": "var_list.py",
     "varRefreshCmd": "print(var_dic_list())"
    },
    "r": {
     "delete_cmd_postfix": ") ",
     "delete_cmd_prefix": "rm(",
     "library": "var_list.r",
     "varRefreshCmd": "cat(var_dic_list()) "
    }
   },
   "types_to_exclude": [
    "module",
    "function",
    "builtin_function_or_method",
    "instance",
    "_Feature"
   ],
   "window_display": false
  }
 },
 "nbformat": 4,
 "nbformat_minor": 2
}
